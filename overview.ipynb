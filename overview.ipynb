{
 "cells": [
  {
   "cell_type": "markdown",
   "id": "495a6e15",
   "metadata": {},
   "source": [
    "Task 2: Task 2: Supply Chain Optimization for a Logistics Company\n",
    "Expected duration: 5 days\n",
    "Task Overview\n",
    "Analytical Challenge and Business Context\n",
    "A logistics company aims to optimize its supply chain by analyzing delivery performance across its distribution network. The task is to identify bottlenecks in delivery routes and propose cost-saving improvements using operational data.\n",
    "\n",
    "Expected Deliverables and Success Criteria\n",
    "Deliverables:\n",
    "A Python or R script for data analysis and optimization.\n",
    "A 2-3 page report summarizing bottlenecks and optimization recommendations.\n",
    "Visualizations (e.g., route performance heatmaps, delivery time distributions).\n",
    "Success Criteria:\n",
    "Identify at least 3 bottlenecks with data-driven evidence.\n",
    "Recommendations reduce delivery time or cost by at least 10% in simulations.\n",
    "Visualizations are clear and highlight key issues.\n",
    "Mock Dataset\n",
    "Dataset 1: Delivery Records (CSV, 40,000 rows)\n",
    "Columns: DeliveryID, RouteID, Date (MM/DD/YYYY), Origin, Destination, DeliveryTime (hours), Cost (USD).\n",
    "Complexities: 8% missing DeliveryTime, outliers in Cost.\n",
    "Dataset 2: Route Information (CSV, 500 rows)\n",
    "Columns: RouteID, Distance (miles), TrafficIndex (1-10), WarehouseID.\n",
    "Complexities: 5% missing TrafficIndex, high variance in Distance.\n",
    "Dataset 3: Warehouse Data (CSV, 50 rows)\n",
    "Columns: WarehouseID, Location, Capacity (units), StaffCount.\n",
    "Complexities: No missing values, but Capacity varies widely.\n",
    "Analytical Techniques and Tools\n",
    "Techniques:\n",
    "Data cleaning: Impute missing values, standardize locations.\n",
    "EDA: Analyze delivery times and costs by route and warehouse.\n",
    "Optimization: Linear programming or heuristic methods to optimize routes.\n",
    "Visualization: Heatmaps, box plots, scatter plots.\n",
    "Tools:\n",
    "Python (pandas, scipy, pulp, matplotlib, seaborn) or R (dplyr, lpSolve, ggplot2).\n",
    "SQL for data aggregation.\n",
    "Excel for quick checks.\n",
    "Tableau for advanced visualizations.\n",
    "Evaluation Metrics\n",
    "Analysis Quality: Identify 3+ bottlenecks (e.g., “RouteID 45: High DeliveryTime due to TrafficIndex”).\n",
    "Optimization: Recommendations reduce simulated costs or times by 10%+.\n",
    "Data Quality: >95% of missing values handled; outliers justified.\n",
    "Visualization: Includes at least 3 visuals (e.g., heatmap of DeliveryTime by Route).\n",
    "Time Estimate: 10h data cleaning, 10h EDA, 10h optimization, 5h visualization, 5h report writing."
   ]
  }
 ],
 "metadata": {
  "kernelspec": {
   "display_name": "python_eda",
   "language": "python",
   "name": "python3"
  },
  "language_info": {
   "name": "python",
   "version": "3.13.2"
  }
 },
 "nbformat": 4,
 "nbformat_minor": 5
}
